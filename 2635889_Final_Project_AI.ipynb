{
 "cells": [
  {
   "cell_type": "markdown",
   "id": "9e434f27-870c-4286-b398-439d7ea97b71",
   "metadata": {},
   "source": [
    "**GUID**: 2653889r\n",
    "**GitHub URL**: https://github.com/Hrisity/Hristiana_AI_B.git"
   ]
  },
  {
   "cell_type": "markdown",
   "id": "13bf7ce9-1188-46e4-bee0-c373310ea7d2",
   "metadata": {},
   "source": [
    "# Journal of a Continental Tour\n",
    "\n",
    "## Modernising and Bringing to Life an Old Journal Through a Contemporary Interpretation\n"
   ]
  },
  {
   "cell_type": "code",
   "execution_count": 16,
   "id": "00547069-85fc-49bb-a768-13ea2fdba2ee",
   "metadata": {},
   "outputs": [
    {
     "data": {
      "text/html": [
       "\n",
       "<div style=\"text-align: center;\">\n",
       "    <img src=\"images/coverimage.jpeg\" width=\"35%\" height=\"35%\" style=\"border-radius: 10px;\">\n",
       "</div>\n"
      ],
      "text/plain": [
       "<IPython.core.display.HTML object>"
      ]
     },
     "execution_count": 16,
     "metadata": {},
     "output_type": "execute_result"
    }
   ],
   "source": [
    "from IPython.display import HTML\n",
    "\n",
    "HTML('''\n",
    "<div style=\"text-align: center;\">\n",
    "    <img src=\"images/coverimage.jpeg\" width=\"35%\" height=\"35%\" style=\"border-radius: 10px;\">\n",
    "</div>\n",
    "''')\n",
    "#This code snippet uses the HTML function from IPython.display to render HTML content directly within this Jupyter Notebook cell. In this case, this is a photo of the first page of the journal, which plays the role of a cover photo of this notebook."
   ]
  },
  {
   "cell_type": "markdown",
   "id": "0d5d755b-1024-4c77-a8cd-7d1216ef4637",
   "metadata": {},
   "source": [
    "## Chapter 1: Unveiling the Journey - A Digital Odyssey"
   ]
  },
  {
   "cell_type": "markdown",
   "id": "5ca24816-f6bf-4c75-ac2b-3a4888e19e28",
   "metadata": {},
   "source": [
    "### Introduction to the Collection\n",
    "\n",
    "The object I have chosen is GB 247 MS Gen 1, the Journal of a Continental Tour. This remarkable piece of history belongs to the collection group manuscripts at the University of Glasgow’s Archives and Special Collections. This journal documents a continental tour from 1867 to 1868, as it offers a unique glimpse into the experiences, observations, and visual expressions of its author during a period of considerable social and cultural change.\n",
    "\n",
    "It was brought to the collection on the 18th of November, 1953, by John Smith. With its pen-ink drawings & photographs, the manuscript narrates a journey across continents and encapsulates a moment in time where the mix of art, travel, and observation painted a vivid picture of the world as seen through the eyes of its author.\n"
   ]
  },
  {
   "cell_type": "markdown",
   "id": "f1333c21-5338-49b8-9022-012246786dce",
   "metadata": {},
   "source": [
    "### Storing and Accessing the Journal\n",
    "The journal is in the Manuscripts Collection of the University of Glasgow with the reference code GB 247 MS Gen 13. Because it is hand-written in English, the journal has a transcript that researchers and enthusiasts can use to track the journey back in time.\n",
    "\n",
    "Access to the journal is open; however, potential viewers must contact the library's Archives and Special Collections at library-asc@glasgow.ac.uk for appointments or advice. This ensures the preservation and respect for the material's integrity and significance.\n",
    "\n",
    "Although I wanted to add more information about the journal, I could not due to a lack of sources on it. The only credible is the one provided on Moodle from the University of Glasgow, which is the source I used to write these two paragraphs [(explore source here)](https://www.gla.ac.uk/collections/#/details?irn=250262&catType=C&referrer=/results&q=ms+gen+13).\n",
    "\n",
    "\n"
   ]
  },
  {
   "cell_type": "markdown",
   "id": "1043010e-a5c7-4517-baf3-5eefe4ed6bd6",
   "metadata": {},
   "source": [
    "### Objectives of This Digital Odyssey\n",
    "Nowadays, individuals tend to  prefer consuming educational or any type of content on social media platforms such as YouTube, TikTok, and Instagram over the practice of reading books and journals; I am taking the opportunity here to breathe new life into this historic journal. Over the last few years, research indicates that today's generation is more likely to engage with content in brief, digestible segments, typically not extending beyond a few minutes on social media platforms [(Chakraborty, 2024)](https://www.winsavvy.com/engaging-millennials-and-gen-z/).\n",
    "\n",
    "I will use the journal as a springboard to explore and question existing technical, social, and cultural topics relevant to the time of its creation and our current era. To achieve this, I will present the journal in a format that resonates with the prevailing media consumption habits - YouTube short/Instagram reel/TikTok. The outcome is a video that draws the viewers' attention by showing beautiful scenes (ai-generated videos) from all the places the author visited, all beautifully ai-edited. This will make the viewer read the description which will be the story of the author highlighting the most important parts and events of the journey. This project brings the past and present together through the exploration of travelling and the discovery of new cultures in the past.\n",
    "\n",
    "Before sharing the journal's contents in a new format, I will walk you through the processes of summarisation, the building of prompts, the generation of new illustrations and videos, as well as the ai-editing of the final reel/short/video.\n"
   ]
  },
  {
   "cell_type": "markdown",
   "id": "89e44c6b-1086-47f5-ba6a-ab475c4ee8a8",
   "metadata": {},
   "source": [
    "### Engaging With the Journal: A New Perspective\n",
    "Firstly, I will use the power of AI, particularly the capabilities of ChatGPT, to analyse and summarise the journal's transcript by Robert McLean. In this way, the essence of the narrative will be distilled, and then turned into a summarised version of the story. Hence, the story of the journal engages people quickly and offers a fresh perspective on historical accounts.\n",
    "\n",
    "As mentioned earlier, the hand-written text in the journal is accompanied by black-and-white hand-drawn illustrations. I am going to use these and the summarised text of the transcript as a basis for generating vibrant, digital illustrations. With Midjourney, I will transform these historical visual elements into colourful digital artworks. Lastly, based on the newly generated images and the summarised text, new prompts will be designed that bring these images to life - animating them and turning them into ai-generated videos. This is how the past can be reimagined with the vibrancy and dynamism of the present - turned into an educational social media post with video content and a description that will make people willing to engage with this journey on a new level.\n",
    "\n"
   ]
  },
  {
   "cell_type": "markdown",
   "id": "d044b651-1876-4f0a-91e1-e92875b166db",
   "metadata": {},
   "source": [
    "### Inviting Engagement and Reflection\n",
    "\n",
    "My main goal in this AI journey is not only to preserve and honour the essence of the original journal but also to challenge and expand my audience’s understanding of the past. I invite everyone to question and reflect on the technical, social, and cultural contexts of the past and their relevance today. For example, how people used to experience travelling and explore new cultures compared to the way we do it now.\n",
    "\n",
    "With this project, the journal of a continental tour will serve as a portal to the past. As it offers insights and inspirations, presented in a way that corresponds with what people are accustomed to today.\n"
   ]
  },
  {
   "cell_type": "markdown",
   "id": "44651fd0-8b06-42b6-91cc-c1529ba2ece7",
   "metadata": {},
   "source": [
    "## Chapter 2: Unlocking the Past: Transforming the Journal into AI Stories & Prompts"
   ]
  },
  {
   "cell_type": "markdown",
   "id": "d4c924f9-a319-4e0c-a5fb-ffdec20f2fad",
   "metadata": {},
   "source": [
    "In this chapter, I invite you on a journey of transformation, utilising the power of AI, including ChatGPT. I will use it to distil and summarise the essence of the tour documented in 1867-1868. The generated summary will be divided into sections. Each section of the summarised journal transcript plays the role of a foundation upon which a series of prompts will be constructed. This will guide the creation of ai-generated digital art in the next chapter. This is how I will bring historical narratives to life through a contemporary lens."
   ]
  },
  {
   "cell_type": "markdown",
   "id": "5a858f68-9972-434a-b6ae-4739725fb6b7",
   "metadata": {},
   "source": [
    "### First Phase - The Summarisation \n",
    "\n",
    "Outline of the initial steps in this phase:\n",
    "\n",
    "*Interactions with AI*: This journey begins with the raw, handwritten text turned into a transcript by McLean. Hence, this transcript is filled with observations, personal reflections, and vivid descriptions of the places and people from the journal. Because of the great potential of AI to tell the narrative that is hidden within these pages in a more systematised way, I turned to ChatGPT. I will, first, upload the transcript to the AI tool, to distil the essence that retains the narrative's soul while making it accessible to a modern audience that is used to find information in shorter passages of text.\n",
    "\n",
    "*Achieving Clarity and Focus*: My goal is clear from the very beginning — to transform the sprawling narrative into a structured format that highlights key events, cultural observations, and the traveller's experiences. As it will be included in the video description section. Of course, I am trying to prevent the loss of depth and richness of the original text by checking the responses at each step. \n",
    "\n",
    "ChatGPT's response will be a set of summarised sections. Each will be focusing on a distinct phase of this journey. This breakdown will clarify the thematic threads that run through the journal.\n",
    "\n",
    "*From Text to Themes*: The summaries offered by ChatGPT will serve as thematic signposts, guiding our project's next phase. Each summary will help in the building of prompts for Midjourney that would later be transformed into digital illustrations, bridging the gap between 19th-century travel and 21st-century storytelling techniques.\n"
   ]
  },
  {
   "cell_type": "markdown",
   "id": "a0797ddc-a9d0-4699-87eb-dc1929040130",
   "metadata": {},
   "source": [
    "### Transforming Historical Text into Visual Narratives\n",
    "\n",
    "The first step is to transform the journal transcript into a structured format that highlights key events, cultural observations, and the traveller's experiences. The way I approached this step involved structuring a prompt that successfully communicates to the AI tool what I am trying to get as a result. After a series of tries, I built a prompt and sent it to the ChatGPT 4.0 chatbot.\n",
    "\n",
    "Before moving to the prompt and the generation of the summary, it is important to first introduce the tool. ChatGPT is an AI tool that has been developed by OpenAI. It is based on a large language model - OpenAI's proprietary Generative Pre-trained Transformer (GPT) models, specifically GPT-3.5 and GPT-4 for its different versions. These are good for conversational purposes thanks to a combination of supervised learning and reinforcement learning from human feedback (RLHF). In this way, people improve how the model performs by ranking responses in conversations to fine-tune the model.\n",
    "\n",
    "The main purpose of the chatbot is to generate text after a user inputs a prompt, using deep learning to produce human-like text. You will see how this works in a bit. \n",
    "\n",
    "*References*\n",
    "\n",
    "- Wikipedia on ChatGPT. Available at: [ChatGPT](https://en.wikipedia.org/wiki/ChatGPT)\n",
    "- TechCrunch article. Available at: [ChatGPT: Everything you need to know about the AI-powered chatbot](https://techcrunch.com/2023/03/16/chatgpt-everything-you-need-to-know/)\n",
    "- Built In's overview. Available at: [What Is ChatGPT?](https://builtin.com/artificial-intelligence/chatgpt-openai-chatbot)\n",
    "\n",
    "\n",
    "\n"
   ]
  },
  {
   "cell_type": "markdown",
   "id": "9cdcfcec-617c-4cb2-9ea1-0921ad7e6203",
   "metadata": {},
   "source": [
    "My initial idea was to generate content using OpenAI API for text generation within a Jupyter Notebook. However, I had to prepare an API Key, so I requested it. Sadly, my application was rejected. Although I could not make this work, here is an example of the code that was supposed to help me with the generation of the content:"
   ]
  },
  {
   "cell_type": "code",
   "execution_count": null,
   "id": "23a550e9-6773-4f25-a7bb-8c04a38d3575",
   "metadata": {},
   "outputs": [],
   "source": [
    "import openai\n",
    "import os\n",
    "\n",
    "# OpenAI API key set as an environment variable\n",
    "openai.api_key = os.getenv('OPENAI_API_KEY')\n",
    "\n",
    "# Example prompt from one of the travel sections\n",
    "prompt = \"\"\"Turn this summary into a detailed story:\n",
    "'...Summary of the section goes here...'\"\"\"\n",
    "\n",
    "response = openai.Completion.create(\n",
    "  engine=\"text-davinci-003\",\n",
    "  prompt=prompt,\n",
    "  temperature=0.7,\n",
    "  max_tokens=500,\n",
    "  top_p=1.0,\n",
    "  frequency_penalty=0.0,\n",
    "  presence_penalty=0.0\n",
    ")\n",
    "\n",
    "# Print the generated text\n",
    "print(response.choices[0].text.strip())\n"
   ]
  },
  {
   "cell_type": "markdown",
   "id": "4eb528b1-822b-4144-b63b-da1651b886c2",
   "metadata": {},
   "source": [
    "This code snippet is a general example of how to use the OpenAI GPT-3 API with the openai Python package, which I have installed during week 1, to generate text based on a given prompt.\n",
    "\n",
    "*References*\n",
    "\n",
    "- Practices for Using the OpenAI API. Available at: [OpenAI API documentation](https://platform.openai.com/docs/introduction)"
   ]
  },
  {
   "cell_type": "markdown",
   "id": "def22d60-b66f-4d8c-8995-22b69ddd9b5c",
   "metadata": {},
   "source": [
    "Now, I will continue by presenting the first prompt I designed for ChatGPT. It took me a while to build one that actually generates what I need. However, after a couple of tries, I managed!\n",
    "\n",
    "Prompt: *I am a student working on an AI project that involves summarizing a transcript of a handwritten journal. From this summary, I will create prompts, and by combining them with hand-drawn illustrations, I will generate digital coloured illustrations. Finally, I will use all that to create a video that tells the story of the journal. Now, analyze the document I provided - the transcript of the journal and generate a summary of it, separate it into sections, each should briefly describe what happened during each visit. [uploaded document MSGen13-2.docx]*"
   ]
  },
  {
   "cell_type": "markdown",
   "id": "9d17490c-ec36-499d-adb7-7f24b9545443",
   "metadata": {},
   "source": [
    "**ChatGPT:** Based on the detailed transcript provided, here is a summarized breakdown of the journal, divided into sections according to the main events or visits described:\n",
    "\n",
    "**Departure and Journey to France**\n",
    "Summary: The journey begins with preparations and departure from Glasgow to Nice, with a mention of the hassles of traveling, including packing and managing luggage. The narrative includes a vivid description of the travel experience via the Caledonian Railway, Charing Cross, and the journey through Paris, highlighting encounters with fellow travelers and the difficulties of managing belongings and dealing with customs.\n",
    "\n",
    "**Paris Stay and Exhibition Visit**\n",
    "Summary: The stay in Paris is marked by adjusting to the local accommodations and participating in the daily routines of the Pension where they stayed. The visit to the Exhibition (Expo) includes a detailed account of their exploration of the various courts and a notable focus on the Bible stand and the Salle Evangilique. The narrative captures their dining experiences, observations of Parisian life, and interactions with art and culture.\n",
    "\n",
    "**Journey to the South of France**\n",
    "Summary: Describes the continuation of their journey south, stopping at various locations such as Lyons, and their eventual arrival in Nice. The account includes details of the travel experience, including meals, encounters with other travelers, and the landscape's beauty. There's a focus on the misadventures and challenges faced, including issues with accommodations and the diverse conditions encountered in different towns.\n",
    "\n",
    "**Exploration of Nice and Surroundings**\n",
    "Summary: Chronicles the experiences and daily life in Nice, including interactions with local residents, exploration of the city's attractions, and the climate's impact on their activities. Describes visits to notable locations, such as Monaco, Mentone, and the Villa Garlands, including observations of local customs, climate, and scenery. There's a focus on social activities, health, and the personal impact of the journey.\n",
    "\n",
    "**Return to Nice and Concluding Adventures**\n",
    "Summary: Concludes with their return to Nice and further explorations, including visits to historical sites, participation in local events, and social interactions with both locals and other travelers. The narrative captures the continuing challenges of travel, including health issues and the weather's unpredictability. The journal ends with reflections on the experiences gained and the interactions with the diverse characters met along the way.\n",
    "\n",
    "*This summary divides the journal into major sections based on the geographical progression of the journey and the significant experiences and challenges encountered. Each section highlights key aspects of the travel experience, from the logistics of travel and accommodations to cultural explorations and personal reflections on the journey's impact.*"
   ]
  },
  {
   "cell_type": "markdown",
   "id": "3d6fe106-b28f-4935-a7af-efa1f4c32762",
   "metadata": {},
   "source": [
    "### Second Phase - Modifying the Story \n",
    "\n",
    "Now it is time to turn the summary of each travel memory into a short story as told by a person. These will be needed after the video generation. \n",
    "\n",
    "For the generation of the short travel stories, I turned to ChatGPT again. Here you can see the prompt I designed and ChatGPT's responses:"
   ]
  },
  {
   "cell_type": "markdown",
   "id": "674a79e7-e73a-4a66-823c-d09d5319c97a",
   "metadata": {},
   "source": [
    "The generalised version of the prompt: *Here is a summary of a travel story. Rewrite it in a way that sounds written by a person who shares his experience: \"[Section from the ai-generated summary]\"*\n",
    "\n",
    "Example prompt with filled variables: *Here is a summary of a travel story. Rewrite it in a way that sounds written by a person who shares his experience: \"Departure and Journey to France Summary: The journey begins with preparations and departure from Glasgow to Nice, with a mention of the hassles of traveling, including packing and managing luggage. The narrative includes a vivid description of the travel experience via the Caledonian Railway, Charing Cross, and the journey through Paris, highlighting encounters with fellow travelers and the difficulties of managing belongings and dealing with customs.\"* "
   ]
  },
  {
   "cell_type": "markdown",
   "id": "45eeab93-309d-4ee5-b6b7-a60912df5926",
   "metadata": {},
   "source": [
    "ChatGPT Responses:"
   ]
  },
  {
   "cell_type": "markdown",
   "id": "a720a0b6-d696-4137-af71-ca8455a7ed11",
   "metadata": {},
   "source": [
    "\n",
    "<div style='display: flex; flex-wrap: wrap; justify-content: space-around;'>\n",
    "    <img src='images/1.jpeg' style='max-width: 28%;'>\n",
    "    <img src='images/2.jpeg' style='max-width: 28%;'>\n",
    "    <img src='images/3.jpeg' style='max-width: 28%;'>\n",
    "</div>\n",
    "<div style='display: flex; flex-wrap: wrap; justify-content: space-around;'>\n",
    "    <img src='images/4.jpeg' style='max-width: 42%;'>\n",
    "    <img src='images/5.jpeg' style='max-width: 42%;'>\n",
    "</div>\n",
    "\n"
   ]
  },
  {
   "cell_type": "markdown",
   "id": "79e6607b-cd14-4b87-a35f-ed7de47afb1a",
   "metadata": {},
   "source": [
    "The journal story was AI-summarised in just 5 pages! It follows to turn these into prompts for illustration generation!"
   ]
  },
  {
   "cell_type": "markdown",
   "id": "d1337251-5f9e-462c-b5f1-13e4d9e472c5",
   "metadata": {},
   "source": [
    "### Third Phase - Engineering the prompts \n"
   ]
  },
  {
   "cell_type": "markdown",
   "id": "c8e4368e-bb29-4713-8740-66d598c75664",
   "metadata": {},
   "source": [
    "First, we need a prompt that will help us turn each of the short stories into a new prompt that can be used in Midjourney for illustration generation. "
   ]
  },
  {
   "cell_type": "markdown",
   "id": "b1a1345e-9e11-4e55-8f99-1974294ec3f6",
   "metadata": {},
   "source": [
    "Here is the prompt I used in ChatGPT to generate prompts for Midjourney:"
   ]
  },
  {
   "cell_type": "markdown",
   "id": "791dfb2c-beaf-43b3-a20c-c0004c6cae9f",
   "metadata": {},
   "source": [
    "**Generalised Version of the Prompt**: *I am a prompt engineer who works with Midjourney for image generation. Now, I need a prompt for Midjourney that will generate an illustration that depicts the following story: [Story 1/2/3/4/5] For the style, I will provide an image of a hand-drawn illustration, the aim is to achieve the same style but in a digital version. Add the Midjourney ending --ar 1:1 --q 5 --v 6 --s 650*"
   ]
  },
  {
   "cell_type": "markdown",
   "id": "9b7bd796-159f-4ff4-8de9-27957cb48bf8",
   "metadata": {},
   "source": [
    "**Example Prompt with Filled Variables**: *I am a prompt engineer who works with Midjourney for image generation. Now, I need a prompt for Midjourney that will generate an illustration that depicts the following story: Setting off from Glasgow to Nice was an adventure filled with the excitement of beginning a new journey and the inevitable hassles of travel preparations. Packing, ensuring everything fit into my luggage, and the slight dread of forgetting something essential marked the initial chaos. The departure was a blend of anticipation and concern about navigating through the challenges ahead, including managing belongings and dealing with customs.*\n",
    "\n",
    "*The journey itself, via the Caledonian Railway to Charing Cross and then through Paris, was a vivid tapestry of landscapes, encounters with fellow travelers, and the unique rhythm of train travel. Despite the complexities of navigating busy streets and metro stations, the excitement of exploring new places and meeting new people kept my spirits high. This trip was more than a journey from one place to another; it was an exploration of the experiences that bind us, woven through the hustle of preparations, the scenic routes, and the anticipation of new discoveries.\" For the style, I will provide an image of a hand-drawn illustration, the aim is to achieve the same style but in a digital version. Add the Midjourney ending --ar 1:1 --q 5 --v 6 --s 650*"
   ]
  },
  {
   "cell_type": "markdown",
   "id": "6c1a4c80-60eb-4475-812b-2ee73645a1be",
   "metadata": {},
   "source": [
    "**ChatGPT's response for story 1**: *Digital illustration in hand-drawn style capturing an adventurous journey from Glasgow to Nice. Include scenes of packing with anticipation and slight dread, a vibrant departure with excitement, travel via Caledonian Railway through scenic landscapes and bustling Paris, encounters with fellow travelers, and the unique rhythm of train travel. Emphasize the mix of preparation chaos, scenic beauty, and the joy of new discoveries. Aim for emotional depth and warmth, mimicking the provided hand-drawn style in digital format. --ar 1:1 --q 5 --v 6 --s 650*"
   ]
  },
  {
   "cell_type": "markdown",
   "id": "c534132a-25aa-46c4-aadf-2630077d5c86",
   "metadata": {},
   "source": [
    "**ChatGPT's response for story 2**: *Digital illustration in hand-drawn style showcasing the charm and rhythm of Paris from the perspective of travelers. Capture the welcoming atmosphere of a cozy Parisian Pension, embodying a slice of daily life and community spirit with shared meals and stories among global travelers. Highlight the visit to the Exhibition (Expo), emphasizing the diversity of global innovation contrasted with the simplicity and profound message of the Bible stand and Salle Evangélique. Illustrate dining experiences that showcase Paris’s gastronomic delights, and portray the city’s bustling cafes, tranquil parks, and vibrant art scene as a living tapestry of culture. Convey the timeless beauty of Paris and its impact on the travelers’ souls. --ar 1:1 --q 5 --v 6 --s 650*"
   ]
  },
  {
   "cell_type": "markdown",
   "id": "3bfe8cb6-a361-449b-8730-e0ab1d19c6e0",
   "metadata": {},
   "source": [
    "**ChatGPT's response for story 3**: *Digital illustration in hand-drawn style capturing the journey through the South of France, from Lyons through a variety of landscapes and towns to Nice. Depict the contrast of Lyons' vibrant city life with serene surroundings, the discovery of local cuisines, and the camaraderie among travelers sharing tales and advice. Emphasize the diversity and beauty of the landscapes as a mesmerizing backdrop. Include scenes of varied accommodations, from welcoming inns to more challenging lodgings, and the mix of bustling cityscapes to tranquil villages. Highlight the journey’s challenges as lessons in resilience and the beauty of unexpected joys and connections. Culminate with the triumphant arrival in Nice, symbolizing the end of a journey rich in discovery and human warmth. --ar 1:1 --q 5 --v 6 --s 650*"
   ]
  },
  {
   "cell_type": "markdown",
   "id": "26e22008-0ded-4d02-84b6-53ba2fb2b481",
   "metadata": {},
   "source": [
    "**ChatGPT's response for story 4**: *Create a digital illustration in hand-drawn style that captures the essence of exploring Nice and its vibrant surroundings, where the blend of nature and culture comes alive through colors, scents, and harmonious balance. Illustrate intimate interactions with locals sharing untold stories, embodying the city's rhythm and soul. Showcase Nice's stunning architecture, bustling markets, and the inviting Riviera lifestyle under the warm climate. Extend the journey to Monaco's opulence, Mentone's serene landscapes, and the storybook ambiance of Villa Garlands, each place revealing its unique culture and scenery. Highlight the profound impact of these experiences, reflecting on social activities, well-being, and the serenity of the South of France that inspires a sense of renewal and the beauty of exploration with an open heart. --ar 1:1 --q 5 --v 6 --s 650*"
   ]
  },
  {
   "cell_type": "markdown",
   "id": "3b8cda19-c491-4079-a2b3-7a8c81af8b73",
   "metadata": {},
   "source": [
    "**ChatGPT's response for story 5**: *Digital illustration in a hand-drawn style conveying the emotional return to Nice, feeling like a homecoming on a journey filled with discovery and connection. Illustrate the deeper exploration into Nice's historic heart, where ancient stones tell tales of the past amidst the vibrant local culture and events. Highlight meaningful social interactions with locals and travelers, weaving a rich tapestry of shared stories and perspectives. Include the challenges encountered, such as health issues and unpredictable weather, illustrating their impact and the lessons of adaptability they imparted. As the journey concludes, depict a reflective moment of gratitude and newfound appreciation for life's complexity, the beauty of the world, and the personal transformation experienced through the adventures in and around Nice. Capture the essence of travel not just as a physical journey but an inward one, filled with challenges, discoveries, and deep connections. --ar 1:1 --q 5 --v 6 --s 650*"
   ]
  },
  {
   "cell_type": "markdown",
   "id": "719b76c9-a3d6-4619-9f47-3b36f7ff35c9",
   "metadata": {},
   "source": [
    "As you can see, the responses I got for each of the stories were not bad. Still, since I am working with two different AI tools - ChatGPT and Midjourney, it is necessary to modify the prompts, so that Midjourney understands what I am trying to achieve.\n",
    "\n",
    "This leads to my next step - working with Midjourney"
   ]
  },
  {
   "cell_type": "markdown",
   "id": "6ebf48f4-a926-4cac-9205-ea93bcf5191b",
   "metadata": {},
   "source": [
    "## Chapter 3: From Pencil to Pixel: Crafting AI-Generated Digital Art from Hand-Drawn Sketches"
   ]
  },
  {
   "cell_type": "markdown",
   "id": "82daaf3d-e562-43a2-9e9a-40d086acdbd5",
   "metadata": {},
   "source": [
    "For the purpose of this project, I decided that using Midjourney would be the best option in terms of tool selection. Midjourney gives us the possibility to upload images that can be used to guide the style. I will use the images of the original journal illustrations that I took during the visit to the University of Glasgow Library.  "
   ]
  },
  {
   "cell_type": "markdown",
   "id": "47651317-2de9-4fba-9cb0-bc065f494c44",
   "metadata": {
    "jp-MarkdownHeadingCollapsed": true
   },
   "source": [
    "### Introduction to Midjourney\n",
    "\n",
    "Before we start, I will talk about the tool I am about to use. Midjourney is an advanced AI platform that turns textual prompts into visuals. It employs generative adversarial networks (GANs) for its creative process. It is designed with the idea of serving as a collaborative tool for artists that offers rapid prototyping and creativity by generating detailed images from text descriptions. \n",
    "\n",
    "Currently, Midjourney is mainly used by people, who see the platform as an addition to their creative workflow. Although the first responses from the art community were mixed, many artists have embraced Midjourney for its ability to help creativity, experiment with new styles, and assist in visualising complex ideas. We can access Midjourne pretty easily - by joining the Midjourney Discord.\n",
    "\n",
    "### Midjourney Resources\n",
    "\n",
    "- [Midjourney Official Website](https://www.midjourney.com/) - Official site providing an overview and mission of Midjourney.\n",
    "- [Let's Try AI - New Midjourney v6 Overview](https://letstryai.com/category/midjourney/) - Detailed review and examples of Midjourney v6's capabilities.\n",
    "- [Midjourney Documentation and User Guide](https://docs.midjourney.com/) - Comprehensive guides and tutorials for using Midjourney effectively.\n",
    "- [Threw the Looking Glass - A Beginner’s Overview](https://threwthelookingglass.com/) - Discusses the technology behind Midjourney, focusing on its use of GANs.\n",
    "- [RareConnections - Midjourney Review](https://rareconnections.io/) - Evaluates Midjourney's position in the AI art generator landscape and its reception among artists.\n"
   ]
  },
  {
   "cell_type": "markdown",
   "id": "04461dda-caa9-4bd1-9f24-ef5c2722ef08",
   "metadata": {},
   "source": [
    "### Generating the New Illustrations\n",
    "The first step is to upload the images I took of the original illustrations. These will be used as references for the illustrations that will be AI-generated. It is important to note that I aim to keep the new illustrations in the same artistic style but also make sure that they are coloured and digital."
   ]
  },
  {
   "cell_type": "markdown",
   "id": "3dddce32-a576-4011-8539-f30db2a3a8e9",
   "metadata": {},
   "source": [
    "Here are the reference images:"
   ]
  },
  {
   "cell_type": "markdown",
   "id": "7664ab3f-6746-411b-83f4-3b1fed6705f1",
   "metadata": {},
   "source": [
    "<table>\n",
    "<tr>\n",
    "    <td><img src='images/ill1.jpeg' style='width: 100%; border-radius: 10px; box-shadow: 0px 4px 8px rgba(0, 0, 0, 0.2);'></td>\n",
    "    <td><img src='images/ill2.jpeg' style='width: 100%; border-radius: 10px; box-shadow: 0px 4px 8px rgba(0, 0, 0, 0.2);'></td>\n",
    "    <td><img src='images/ill3.jpeg' style='width: 100%; border-radius: 10px; box-shadow: 0px 4px 8px rgba(0, 0, 0, 0.2);'></td>\n",
    "</tr>\n",
    "<tr>\n",
    "    <td><img src='images/ill4.jpeg' style='width: 100%; border-radius: 10px; box-shadow: 0px 4px 8px rgba(0, 0, 0, 0.2);'></td>\n",
    "    <td><img src='images/ill5.jpeg' style='width: 100%; border-radius: 10px; box-shadow: 0px 4px 8px rgba(0, 0, 0, 0.2);'></td>\n",
    "    <td><img src='images/ill6.jpeg' style='width: 100%; border-radius: 10px; box-shadow: 0px 4px 8px rgba(0, 0, 0, 0.2);'></td>\n",
    "</tr>\n",
    "<tr>\n",
    "    <td><img src='images/ill7.jpeg' style='width: 100%; border-radius: 10px; box-shadow: 0px 4px 8px rgba(0, 0, 0, 0.2);'></td>\n",
    "    <td><img src='images/ill8.jpeg' style='width: 100%; border-radius: 10px; box-shadow: 0px 4px 8px rgba(0, 0, 0, 0.2);'></td>\n",
    "    <td><img src='images/ill9.jpeg' style='width: 100%; border-radius: 10px; box-shadow: 0px 4px 8px rgba(0, 0, 0, 0.2);'></td>\n",
    "    <td></td>\n",
    "</tr>\n",
    "</table>\n",
    "\n"
   ]
  },
  {
   "cell_type": "markdown",
   "id": "de337bdd-e882-48ee-8c14-c780e18d2538",
   "metadata": {},
   "source": [
    "To generate something similar in Midjourney, I had to first upload the illustrations. I did this by sending each of the images above to the Midjourney chatbot, and then when typing the real prompt inserting the discord link of each photo at the beginning of the prompt. \n",
    "\n",
    "The prompt suggestions made by ChatGPT were great. However, I made a couple of changes and inserted the original illustrations links made in Discord - where I interact with Midjourney.\n",
    "\n",
    "The final versions of the prompts are the following: \n"
   ]
  },
  {
   "cell_type": "markdown",
   "id": "4a40aa68-9d56-4199-b706-7710320fba53",
   "metadata": {},
   "source": [
    "<table style=\"width: 100%;\">\n",
    "<tr>\n",
    "    <td style=\"text-align: center;\"><img src='images/prompt1.jpeg' style='width: 100%; border-radius: 10px; box-shadow: 0px 4px 8px rgba(0, 0, 0, 0.2);'></td>\n",
    "    <td style=\"text-align: center;\"><img src='images/prompt2.jpeg' style='width: 100%; border-radius: 10px; box-shadow: 0px 4px 8px rgba(0, 0, 0, 0.2);'></td>\n",
    "</tr>\n",
    "<tr>\n",
    "    <td style=\"text-align: center;\"><img src='images/prompt3.jpeg' style='width: 100%; border-radius: 10px; box-shadow: 0px 4px 8px rgba(0, 0, 0, 0.2);'></td>\n",
    "    <td style=\"text-align: center;\"><img src='images/prompt4.jpeg' style='width: 100%; border-radius: 10px; box-shadow: 0px 4px 8px rgba(0, 0, 0, 0.2);'></td>\n",
    "</tr>\n",
    "<tr>\n",
    "    <td colspan=\"2\" style=\"text-align: center;\"><img src='images/prompt5.jpeg' style='width: 50%; border-radius: 10px; box-shadow: 0px 4px 8px rgba(0, 0, 0, 0.2);'></td>\n",
    "</tr>\n",
    "</table>\n"
   ]
  },
  {
   "cell_type": "markdown",
   "id": "ea0d1b9c-01a3-44bc-b4f1-adfef5710dcc",
   "metadata": {},
   "source": [
    "Here are the results - Newly generate illustrations that depict the story:"
   ]
  },
  {
   "cell_type": "markdown",
   "id": "cd024872-ae10-478a-a538-77340c43b5fd",
   "metadata": {},
   "source": [
    "<div>\n",
    "    <h3>Departure and Journey to France</h3>\n",
    "    <img src=\"images/s1.jpeg\" alt=\"s1\" style=\"width: 23%; margin-right: 1%; border-radius: 8px; display: inline-block;\">\n",
    "    <img src=\"images/s2.jpeg\" alt=\"s2\" style=\"width: 23%; margin-right: 1%; border-radius: 8px; display: inline-block;\">\n",
    "    <img src=\"images/s3.jpeg\" alt=\"s3\" style=\"width: 23%; margin-right: 1%; border-radius: 8px; display: inline-block;\">\n",
    "    <img src=\"images/s4.jpeg\" alt=\"s4\" style=\"width: 23%; border-radius: 8px; display: inline-block;\"><br>\n",
    "</div>\n",
    "\n",
    "<div>\n",
    "    <h3>Paris Stay and Exhibition Visit</h3>\n",
    "    <img src=\"images/s5.jpeg\" alt=\"s5\" style=\"width: 23%; margin-right: 1%; border-radius: 8px; display: inline-block;\">\n",
    "    <img src=\"images/s6.jpeg\" alt=\"s6\" style=\"width: 23%; margin-right: 1%; border-radius: 8px; display: inline-block;\">\n",
    "    <img src=\"images/s7.jpeg\" alt=\"s7\" style=\"width: 23%; margin-right: 1%; border-radius: 8px; display: inline-block;\">\n",
    "    <img src=\"images/s8.jpeg\" alt=\"s8\" style=\"width: 23%; border-radius: 8px; display: inline-block;\"><br>\n",
    "</div>\n",
    "\n",
    "<div>\n",
    "    <h3>Journey to the South of France</h3>\n",
    "    <img src=\"images/s9.jpeg\" alt=\"s9\" style=\"width: 23%; margin-right: 1%; border-radius: 8px; display: inline-block;\">\n",
    "    <img src=\"images/s10.jpeg\" alt=\"s10\" style=\"width: 23%; margin-right: 1%; border-radius: 8px; display: inline-block;\">\n",
    "    <img src=\"images/s11.jpeg\" alt=\"s11\" style=\"width: 23%; margin-right: 1%; border-radius: 8px; display: inline-block;\">\n",
    "    <img src=\"images/s12.jpeg\" alt=\"s12\" style=\"width: 23%; border-radius: 8px; display: inline-block;\"><br>\n",
    "</div>\n",
    "\n",
    "<div>\n",
    "    <h3>Exploration of Nice and Surroundings</h3>\n",
    "    <img src=\"images/s13.jpeg\" alt=\"s13\" style=\"width: 23%; margin-right: 1%; border-radius: 8px; display: inline-block;\">\n",
    "    <img src=\"images/s14.jpeg\" alt=\"s14\" style=\"width: 23%; margin-right: 1%; border-radius: 8px; display: inline-block;\">\n",
    "    <img src=\"images/s15.jpeg\" alt=\"s15\" style=\"width: 23%; margin-right: 1%; border-radius: 8px; display: inline-block;\">\n",
    "    <img src=\"images/s16.jpeg\" alt=\"s16\" style=\"width: 23%; border-radius: 8px; display: inline-block;\"><br>\n",
    "</div>\n",
    "\n",
    "<div>\n",
    "    <h3>Return to Nice and Concluding Adventures</h3>\n",
    "    <img src=\"images/s17.jpeg\" alt=\"s17\" style=\"width: 23%; margin-right: 1%; border-radius: 8px; display: inline-block;\">\n",
    "    <img src=\"images/s18.jpeg\" alt=\"s18\" style=\"width: 23%; margin-right: 1%; border-radius: 8px; display: inline-block;\">\n",
    "    <img src=\"images/s19.jpeg\" alt=\"s19\" style=\"width: 23%; margin-right: 1%; border-radius: 8px; display: inline-block;\">\n",
    "    <img src=\"images/s20.jpeg\" alt=\"s20\" style=\"width: 23%; border-radius: 8px; display: inline-block;\"><br\n",
    "</div>\n"
   ]
  },
  {
   "cell_type": "markdown",
   "id": "a21b673f-f95a-47fc-a728-a8d64167cfe2",
   "metadata": {},
   "source": [
    "These turned out beautifully. However, there are plenty of alternative ways to generate images from textual prompts. One of which is directly integrating models such as OpenAI's DALL·E. Most models require access to their APIs, including OpenAI's. I already mentioned that my API request was rejected. Since I did the research, I really want to share with you for demonstration purposes, how you would set up a theoretical example using an API like OpenAI's to generate images from text prompts in a Jupyter Notebook."
   ]
  },
  {
   "cell_type": "markdown",
   "id": "701991f7-6855-4b84-a5b8-872f679464e0",
   "metadata": {},
   "source": [
    "**Step 1: Install OpenAI Python Package**\n",
    "\n",
    "I have already done that by installing the OpenAI package. You can do this by running the following command in a code cell:"
   ]
  },
  {
   "cell_type": "code",
   "execution_count": null,
   "id": "8a69d3ef-26f4-4ddf-82b1-70e40a9e92d4",
   "metadata": {},
   "outputs": [],
   "source": [
    "!pip install openai"
   ]
  },
  {
   "cell_type": "markdown",
   "id": "8120e185-41b7-414d-895f-15301efc9666",
   "metadata": {},
   "source": [
    "**Step 2: Set Up OpenAI API Key**\n",
    "\n",
    "This is the tricky part. You need an API key from OpenAI. You'll need to set this API key in your environment or within your notebook to authenticate your requests. In the code, you have to replace \"your_api_key_here\" with your actual OpenAI API key, in case you have one."
   ]
  },
  {
   "cell_type": "code",
   "execution_count": null,
   "id": "6447f062-a448-4781-a3b0-3eb0c2dee72a",
   "metadata": {},
   "outputs": [],
   "source": [
    "import os\n",
    "os.environ[\"OPENAI_API_KEY\"] = \"your_api_key_here\""
   ]
  },
  {
   "cell_type": "markdown",
   "id": "2f86bae6-8aa7-4c9d-a5dd-5ca92fd0e680",
   "metadata": {},
   "source": [
    "**Step 3: Generate an Image Using DALL·E**\n",
    "\n",
    "Now, you can use the OpenAI package to call the API and generate an image based on a prompt."
   ]
  },
  {
   "cell_type": "code",
   "execution_count": null,
   "id": "152c5c08-531b-4505-87b5-c61d77fd9b7b",
   "metadata": {},
   "outputs": [],
   "source": [
    "import openai\n",
    "\n",
    "response = openai.Image.create(\n",
    "  engine=\"davinci\",\n",
    "  prompt=\"your prompt\",\n",
    "  n=1,\n",
    "  size=\"1024x1024\"\n",
    ")\n",
    "\n",
    "# The response will contain a URL to the generated image\n",
    "image_url = response['data'][0]['url']\n"
   ]
  },
  {
   "cell_type": "markdown",
   "id": "42b20f83-8cd1-459a-b0f0-b8a399c3bbe9",
   "metadata": {},
   "source": [
    "**Step 4: Display the Generated Image**\n",
    "\n",
    "Then, you can display the image in your Jupyter Notebook using IPython's Image display:"
   ]
  },
  {
   "cell_type": "code",
   "execution_count": null,
   "id": "37f4ff02-e9fa-4a6c-a1d1-d2f422247657",
   "metadata": {},
   "outputs": [],
   "source": [
    "from IPython.display import Image\n",
    "from IPython.core.display import HTML \n",
    "\n",
    "# Display image by URL\n",
    "display(HTML(f\"<img src='{image_url}' />\"))"
   ]
  },
  {
   "cell_type": "markdown",
   "id": "3ede4108-2cf6-4aa1-8c93-4369ed688f41",
   "metadata": {},
   "source": [
    "**Code References**\n",
    "\n",
    "1. OpenAI. (n.d.). *Image Generation Guide*. OpenAI Platform. Available at: [https://platform.openai.com/docs/guides/images/image-generation-beta](https://platform.openai.com/docs/guides/images/image-generation-beta)\n",
    "\n",
    "2. OpenAI. (n.d.). *DALL·E 3 API Guide*. OpenAI Help Center. Available at: [https://help.openai.com/en/articles/8555480-dall-e-3-api](https://help.openai.com/en/articles/8555480-dall-e-3-api)\n"
   ]
  },
  {
   "cell_type": "markdown",
   "id": "b0e76978-6992-48c3-9f69-50574e23d9b8",
   "metadata": {},
   "source": [
    "## Chapter 4 - Illustrations in Motion: Creating Captivating Videos"
   ]
  },
  {
   "cell_type": "markdown",
   "id": "a40b75f9-a864-46b4-82fd-bdc4d042bd70",
   "metadata": {},
   "source": [
    "For this part, I will be using an AI tool caled RunwayML, which became pretty famous last year."
   ]
  },
  {
   "cell_type": "markdown",
   "id": "da925263-44d5-491e-9a4a-030f74124d73",
   "metadata": {},
   "source": [
    "### RunwayML Overview\n",
    "\n",
    "RunwayML is a platform that transforms creative processes with the help of AI. It is designed with the idea of enhancing storytelling and making content creation accessible to everyone in video format. RunwayML specialises in machine learning, post-production, video editing, generative AI, and research, as in this way tools previously accessible only to professionals can be now accessed by everyone. Users can generate videos, edit them, or generate audio.\n"
   ]
  },
  {
   "cell_type": "markdown",
   "id": "a18382ab-ce7a-4ea9-a62f-c8b001fcb7e0",
   "metadata": {},
   "source": [
    "### RunwayML Tools\n",
    "\n",
    "- **Gen-1 and Gen-2 Models**: These models allow for advanced content generation and manipulation. We follow to use the Gen-2 Model.\n",
    "- **AI Magic Tools**: This collection includes various AI-powered tools - creative tasks like text-to-video, image-to-video conversion, and more. \n",
    "- **Text to Video, Image to Video**: Tools that enable the creation of videos from textual descriptions or image inputs.\n",
    "- **Motion Brush**: A tool for interactive video content creation.\n"
   ]
  },
  {
   "cell_type": "markdown",
   "id": "4e1ac49f-b67c-444a-bf16-6f8ca3b87dbd",
   "metadata": {},
   "source": [
    "RunwayML helps creators access AI tools that improve the way visual content can be created. RunwayML offers something to everyone willing to improve their creative workflow. "
   ]
  },
  {
   "cell_type": "markdown",
   "id": "41c432db-917b-4b65-828f-331ed0a43577",
   "metadata": {},
   "source": [
    "### RunwayML Resources\n",
    "\n",
    "- [Runway Official Website](https://runwayml.com) - Explore the suite of creative tools powered by AI for transforming ideas into reality.\n",
    "- [About Runway](https://runwayml.com/about) - Learn about Runway's mission to advance creativity through artificial intelligence.\n",
    "- [Runway Academy](https://academy.runwayml.com) - Access tutorials and guides to leverage Runway's tools effectively.\n",
    "- [Getting Started - Dashboard Overview | Runway Academy](https://academy.runwayml.com/getting-started) - A guide to using Runway's browser-based tools for content creation.\n",
    "- [Gen-2 | Runway](https://runwayml.com/gen-2) - Discover the basics of using Gen-2 in Runway and its endless features for creative work.\n",
    "- [Runway AI - What Can It Do And Will It Take Over Our Jobs?](https://mixinglight.com/runway-ai-insights) - A review highlighting the capabilities of Runway's tools and their impact on creative jobs.\n",
    "- [RunwayML Reviews - Pros & Cons 2024 | Product Hunt](https://www.producthunt.com/products/runwayml) - User reviews of RunwayML, offering insights into its pros and cons.\n",
    "- [Runway ML Review: Creating Impossible Video with AI](https://topten.ai/runway-ml-review) - An overview of how RunwayML streamlines the video editing process with AI.\n"
   ]
  },
  {
   "cell_type": "markdown",
   "id": "9cffe836-cfa6-49b0-902a-109f2a8c8b85",
   "metadata": {},
   "source": [
    "Now, I will provide the videos I generated. As input, I used the previously generated illustrations, while the prompt that I added to the videos was simply: \"Add motion\""
   ]
  },
  {
   "cell_type": "markdown",
   "id": "d7d33832-e598-4dd6-a609-7c27d63aa041",
   "metadata": {},
   "source": [
    "Here are the results:"
   ]
  },
  {
   "cell_type": "code",
   "execution_count": 1,
   "id": "8b715d70-8588-46c1-8061-b274664243d9",
   "metadata": {},
   "outputs": [],
   "source": [
    "from IPython.display import display, HTML\n"
   ]
  },
  {
   "cell_type": "code",
   "execution_count": 2,
   "id": "97c9a5ea-0e2e-4992-97ab-1cca99a9e8c2",
   "metadata": {},
   "outputs": [
    {
     "data": {
      "text/html": [
       "\n",
       "<style>\n",
       ".video-container {\n",
       "    position: relative;\n",
       "    width: 100%;\n",
       "    max-width: 640px; \n",
       "    border-radius: 15px; /* Rounded corners */\n",
       "    overflow: hidden; /* Ensures the corners stay rounded */\n",
       "}\n",
       "\n",
       ".video-container video {\n",
       "    width: 100%;\n",
       "    height: auto;\n",
       "}\n",
       "\n",
       "\n",
       "</style>\n",
       "<h3>Departure and Journey to France</h3>\n",
       "<div class=\"video-container\">\n",
       "    <video controls>\n",
       "        <source src=\"videos/v1.mov\" type=\"video/mp4\">\n",
       "        Your browser does not support the video tag.\n",
       "    </video>\n",
       "</div>\n",
       "<div class=\"video-container\">\n",
       "    <video controls>\n",
       "        <source src=\"videos/v2.mov\" type=\"video/mp4\">\n",
       "        Your browser does not support the video tag.\n",
       "    </video>\n",
       "</div>\n",
       "<div class=\"video-container\">\n",
       "    <video controls>\n",
       "        <source src=\"videos/v3.mp4\" type=\"video/mp4\">\n",
       "        Your browser does not support the video tag.\n",
       "    </video>\n",
       "</div>\n",
       "<div class=\"video-container\">\n",
       "    <video controls>\n",
       "        <source src=\"videos/v4.mov\" type=\"video/mp4\">\n",
       "        Your browser does not support the video tag.\n",
       "    </video>\n",
       "</div>\n"
      ],
      "text/plain": [
       "<IPython.core.display.HTML object>"
      ]
     },
     "metadata": {},
     "output_type": "display_data"
    }
   ],
   "source": [
    "html_code = \"\"\"\n",
    "<style>\n",
    ".video-container {\n",
    "    position: relative;\n",
    "    width: 100%;\n",
    "    max-width: 640px; \n",
    "    border-radius: 15px; /* Rounded corners */\n",
    "    overflow: hidden; /* Ensures the corners stay rounded */\n",
    "}\n",
    "\n",
    ".video-container video {\n",
    "    width: 100%;\n",
    "    height: auto;\n",
    "}\n",
    "\n",
    "\n",
    "</style>\n",
    "<h3>Departure and Journey to France</h3>\n",
    "<div class=\"video-container\">\n",
    "    <video controls>\n",
    "        <source src=\"videos/v1.mov\" type=\"video/mp4\">\n",
    "        Your browser does not support the video tag.\n",
    "    </video>\n",
    "</div>\n",
    "<div class=\"video-container\">\n",
    "    <video controls>\n",
    "        <source src=\"videos/v2.mov\" type=\"video/mp4\">\n",
    "        Your browser does not support the video tag.\n",
    "    </video>\n",
    "</div>\n",
    "<div class=\"video-container\">\n",
    "    <video controls>\n",
    "        <source src=\"videos/v3.mp4\" type=\"video/mp4\">\n",
    "        Your browser does not support the video tag.\n",
    "    </video>\n",
    "</div>\n",
    "<div class=\"video-container\">\n",
    "    <video controls>\n",
    "        <source src=\"videos/v4.mov\" type=\"video/mp4\">\n",
    "        Your browser does not support the video tag.\n",
    "    </video>\n",
    "</div>\n",
    "\"\"\"\n",
    "\n",
    "# Display the HTML content\n",
    "display(HTML(html_code))\n"
   ]
  },
  {
   "cell_type": "code",
   "execution_count": 3,
   "id": "4e91e01e-1fee-4022-84ff-10ff1f7b19e3",
   "metadata": {},
   "outputs": [
    {
     "data": {
      "text/html": [
       "\n",
       "<style>\n",
       ".video-container {\n",
       "    position: relative;\n",
       "    width: 100%;\n",
       "    max-width: 640px; \n",
       "    border-radius: 15px; /* Rounded corners */\n",
       "    overflow: hidden; /* Ensures the corners stay rounded */\n",
       "}\n",
       "\n",
       ".video-container video {\n",
       "    width: 100%;\n",
       "    height: auto;\n",
       "}\n",
       "\n",
       "\n",
       "</style>\n",
       "<h3>Departure and Journey to France</h3>\n",
       "<div class=\"video-container\">\n",
       "    <video controls>\n",
       "        <source src=\"videos/v5.mp4\" type=\"video/mp4\">\n",
       "        Your browser does not support the video tag.\n",
       "    </video>\n",
       "</div>\n",
       "<div class=\"video-container\">\n",
       "    <video controls>\n",
       "        <source src=\"videos/v6.mp4\" type=\"video/mp4\">\n",
       "        Your browser does not support the video tag.\n",
       "    </video>\n",
       "</div>\n",
       "<div class=\"video-container\">\n",
       "    <video controls>\n",
       "        <source src=\"videos/v7.mp4\" type=\"video/mp4\">\n",
       "        Your browser does not support the video tag.\n",
       "    </video>\n",
       "</div>\n",
       "<div class=\"video-container\">\n",
       "    <video controls>\n",
       "        <source src=\"videos/v8.mp4\" type=\"video/mp4\">\n",
       "        Your browser does not support the video tag.\n",
       "    </video>\n",
       "</div>\n"
      ],
      "text/plain": [
       "<IPython.core.display.HTML object>"
      ]
     },
     "metadata": {},
     "output_type": "display_data"
    }
   ],
   "source": [
    "html_code = \"\"\"\n",
    "<style>\n",
    ".video-container {\n",
    "    position: relative;\n",
    "    width: 100%;\n",
    "    max-width: 640px; \n",
    "    border-radius: 15px; /* Rounded corners */\n",
    "    overflow: hidden; /* Ensures the corners stay rounded */\n",
    "}\n",
    "\n",
    ".video-container video {\n",
    "    width: 100%;\n",
    "    height: auto;\n",
    "}\n",
    "\n",
    "\n",
    "</style>\n",
    "<h3>Departure and Journey to France</h3>\n",
    "<div class=\"video-container\">\n",
    "    <video controls>\n",
    "        <source src=\"videos/v5.mp4\" type=\"video/mp4\">\n",
    "        Your browser does not support the video tag.\n",
    "    </video>\n",
    "</div>\n",
    "<div class=\"video-container\">\n",
    "    <video controls>\n",
    "        <source src=\"videos/v6.mp4\" type=\"video/mp4\">\n",
    "        Your browser does not support the video tag.\n",
    "    </video>\n",
    "</div>\n",
    "<div class=\"video-container\">\n",
    "    <video controls>\n",
    "        <source src=\"videos/v7.mp4\" type=\"video/mp4\">\n",
    "        Your browser does not support the video tag.\n",
    "    </video>\n",
    "</div>\n",
    "<div class=\"video-container\">\n",
    "    <video controls>\n",
    "        <source src=\"videos/v8.mp4\" type=\"video/mp4\">\n",
    "        Your browser does not support the video tag.\n",
    "    </video>\n",
    "</div>\n",
    "\"\"\"\n",
    "\n",
    "# Display the HTML content\n",
    "display(HTML(html_code))\n"
   ]
  },
  {
   "cell_type": "code",
   "execution_count": 4,
   "id": "b263716a-af84-4c78-9f8d-7f932e3f6d0b",
   "metadata": {},
   "outputs": [
    {
     "data": {
      "text/html": [
       "\n",
       "<style>\n",
       ".video-container {\n",
       "    position: relative;\n",
       "    width: 100%;\n",
       "    max-width: 640px; \n",
       "    border-radius: 15px; /* Rounded corners */\n",
       "    overflow: hidden; /* Ensures the corners stay rounded */\n",
       "}\n",
       "\n",
       ".video-container video {\n",
       "    width: 100%;\n",
       "    height: auto;\n",
       "}\n",
       "\n",
       "\n",
       "</style>\n",
       "<h3>Journey to the South of France</h3>\n",
       "<div class=\"video-container\">\n",
       "    <video controls>\n",
       "        <source src=\"videos/v9.mov\" type=\"video/mp4\">\n",
       "        Your browser does not support the video tag.\n",
       "    </video>\n",
       "</div>\n",
       "<div class=\"video-container\">\n",
       "    <video controls>\n",
       "        <source src=\"videos/v10.mp4\" type=\"video/mp4\">\n",
       "        Your browser does not support the video tag.\n",
       "    </video>\n",
       "</div>\n",
       "<div class=\"video-container\">\n",
       "    <video controls>\n",
       "        <source src=\"videos/v11.mov\" type=\"video/mp4\">\n",
       "        Your browser does not support the video tag.\n",
       "    </video>\n",
       "</div>\n",
       "<div class=\"video-container\">\n",
       "    <video controls>\n",
       "        <source src=\"videos/v12.mov\" type=\"video/mp4\">\n",
       "        Your browser does not support the video tag.\n",
       "    </video>\n",
       "</div>\n"
      ],
      "text/plain": [
       "<IPython.core.display.HTML object>"
      ]
     },
     "metadata": {},
     "output_type": "display_data"
    }
   ],
   "source": [
    "html_code = \"\"\"\n",
    "<style>\n",
    ".video-container {\n",
    "    position: relative;\n",
    "    width: 100%;\n",
    "    max-width: 640px; \n",
    "    border-radius: 15px; /* Rounded corners */\n",
    "    overflow: hidden; /* Ensures the corners stay rounded */\n",
    "}\n",
    "\n",
    ".video-container video {\n",
    "    width: 100%;\n",
    "    height: auto;\n",
    "}\n",
    "\n",
    "\n",
    "</style>\n",
    "<h3>Journey to the South of France</h3>\n",
    "<div class=\"video-container\">\n",
    "    <video controls>\n",
    "        <source src=\"videos/v9.mov\" type=\"video/mp4\">\n",
    "        Your browser does not support the video tag.\n",
    "    </video>\n",
    "</div>\n",
    "<div class=\"video-container\">\n",
    "    <video controls>\n",
    "        <source src=\"videos/v10.mp4\" type=\"video/mp4\">\n",
    "        Your browser does not support the video tag.\n",
    "    </video>\n",
    "</div>\n",
    "<div class=\"video-container\">\n",
    "    <video controls>\n",
    "        <source src=\"videos/v11.mov\" type=\"video/mp4\">\n",
    "        Your browser does not support the video tag.\n",
    "    </video>\n",
    "</div>\n",
    "<div class=\"video-container\">\n",
    "    <video controls>\n",
    "        <source src=\"videos/v12.mov\" type=\"video/mp4\">\n",
    "        Your browser does not support the video tag.\n",
    "    </video>\n",
    "</div>\n",
    "\"\"\"\n",
    "\n",
    "# Display the HTML content\n",
    "display(HTML(html_code))\n"
   ]
  },
  {
   "cell_type": "code",
   "execution_count": 5,
   "id": "d594fdea-96e6-4f69-953a-8d1ba2b8ad5b",
   "metadata": {},
   "outputs": [
    {
     "data": {
      "text/html": [
       "\n",
       "<style>\n",
       ".video-container {\n",
       "    position: relative;\n",
       "    width: 100%;\n",
       "    max-width: 640px; \n",
       "    border-radius: 15px; /* Rounded corners */\n",
       "    overflow: hidden; /* Ensures the corners stay rounded */\n",
       "}\n",
       "\n",
       ".video-container video {\n",
       "    width: 100%;\n",
       "    height: auto;\n",
       "}\n",
       "\n",
       "\n",
       "</style>\n",
       "<h3>Exploration of Nice and Surroundings</h3>\n",
       "<div class=\"video-container\">\n",
       "    <video controls>\n",
       "        <source src=\"videos/v13.mov\" type=\"video/mp4\">\n",
       "        Your browser does not support the video tag.\n",
       "    </video>\n",
       "</div>\n",
       "<div class=\"video-container\">\n",
       "    <video controls>\n",
       "        <source src=\"videos/v14.mov\" type=\"video/mp4\">\n",
       "        Your browser does not support the video tag.\n",
       "    </video>\n",
       "</div>\n",
       "<div class=\"video-container\">\n",
       "    <video controls>\n",
       "        <source src=\"videos/v15.mov\" type=\"video/mp4\">\n",
       "        Your browser does not support the video tag.\n",
       "    </video>\n",
       "</div>\n",
       "<div class=\"video-container\">\n",
       "    <video controls>\n",
       "        <source src=\"videos/v16.mov\" type=\"video/mp4\">\n",
       "        Your browser does not support the video tag.\n",
       "    </video>\n",
       "</div>\n"
      ],
      "text/plain": [
       "<IPython.core.display.HTML object>"
      ]
     },
     "metadata": {},
     "output_type": "display_data"
    }
   ],
   "source": [
    "html_code = \"\"\"\n",
    "<style>\n",
    ".video-container {\n",
    "    position: relative;\n",
    "    width: 100%;\n",
    "    max-width: 640px; \n",
    "    border-radius: 15px; /* Rounded corners */\n",
    "    overflow: hidden; /* Ensures the corners stay rounded */\n",
    "}\n",
    "\n",
    ".video-container video {\n",
    "    width: 100%;\n",
    "    height: auto;\n",
    "}\n",
    "\n",
    "\n",
    "</style>\n",
    "<h3>Exploration of Nice and Surroundings</h3>\n",
    "<div class=\"video-container\">\n",
    "    <video controls>\n",
    "        <source src=\"videos/v13.mov\" type=\"video/mp4\">\n",
    "        Your browser does not support the video tag.\n",
    "    </video>\n",
    "</div>\n",
    "<div class=\"video-container\">\n",
    "    <video controls>\n",
    "        <source src=\"videos/v14.mov\" type=\"video/mp4\">\n",
    "        Your browser does not support the video tag.\n",
    "    </video>\n",
    "</div>\n",
    "<div class=\"video-container\">\n",
    "    <video controls>\n",
    "        <source src=\"videos/v15.mov\" type=\"video/mp4\">\n",
    "        Your browser does not support the video tag.\n",
    "    </video>\n",
    "</div>\n",
    "<div class=\"video-container\">\n",
    "    <video controls>\n",
    "        <source src=\"videos/v16.mov\" type=\"video/mp4\">\n",
    "        Your browser does not support the video tag.\n",
    "    </video>\n",
    "</div>\n",
    "\"\"\"\n",
    "\n",
    "# Display the HTML content\n",
    "display(HTML(html_code))\n"
   ]
  },
  {
   "cell_type": "code",
   "execution_count": 6,
   "id": "e15b8aec-b14d-487d-9e1b-f54232dec4dd",
   "metadata": {},
   "outputs": [
    {
     "data": {
      "text/html": [
       "\n",
       "<style>\n",
       ".video-container {\n",
       "    position: relative;\n",
       "    width: 100%;\n",
       "    max-width: 640px; \n",
       "    border-radius: 15px; /* Rounded corners */\n",
       "    overflow: hidden; /* Ensures the corners stay rounded */\n",
       "}\n",
       "\n",
       ".video-container video {\n",
       "    width: 100%;\n",
       "    height: auto;\n",
       "}\n",
       "\n",
       "\n",
       "</style>\n",
       "<h3>Return to Nice and Concluding Adventures</h3>\n",
       "<div class=\"video-container\">\n",
       "    <video controls>\n",
       "        <source src=\"videos/v17.mov\" type=\"video/mp4\">\n",
       "        Your browser does not support the video tag.\n",
       "    </video>\n",
       "</div>\n",
       "<div class=\"video-container\">\n",
       "    <video controls>\n",
       "        <source src=\"videos/v18.mov\" type=\"video/mp4\">\n",
       "        Your browser does not support the video tag.\n",
       "    </video>\n",
       "</div>\n",
       "<div class=\"video-container\">\n",
       "    <video controls>\n",
       "        <source src=\"videos/v19.mp4\" type=\"video/mp4\">\n",
       "        Your browser does not support the video tag.\n",
       "    </video>\n",
       "</div>\n",
       "<div class=\"video-container\">\n",
       "    <video controls>\n",
       "        <source src=\"videos/v20.mp4\" type=\"video/mp4\">\n",
       "        Your browser does not support the video tag.\n",
       "    </video>\n",
       "</div>\n"
      ],
      "text/plain": [
       "<IPython.core.display.HTML object>"
      ]
     },
     "metadata": {},
     "output_type": "display_data"
    }
   ],
   "source": [
    "html_code = \"\"\"\n",
    "<style>\n",
    ".video-container {\n",
    "    position: relative;\n",
    "    width: 100%;\n",
    "    max-width: 640px; \n",
    "    border-radius: 15px; /* Rounded corners */\n",
    "    overflow: hidden; /* Ensures the corners stay rounded */\n",
    "}\n",
    "\n",
    ".video-container video {\n",
    "    width: 100%;\n",
    "    height: auto;\n",
    "}\n",
    "\n",
    "\n",
    "</style>\n",
    "<h3>Return to Nice and Concluding Adventures</h3>\n",
    "<div class=\"video-container\">\n",
    "    <video controls>\n",
    "        <source src=\"videos/v17.mov\" type=\"video/mp4\">\n",
    "        Your browser does not support the video tag.\n",
    "    </video>\n",
    "</div>\n",
    "<div class=\"video-container\">\n",
    "    <video controls>\n",
    "        <source src=\"videos/v18.mov\" type=\"video/mp4\">\n",
    "        Your browser does not support the video tag.\n",
    "    </video>\n",
    "</div>\n",
    "<div class=\"video-container\">\n",
    "    <video controls>\n",
    "        <source src=\"videos/v19.mp4\" type=\"video/mp4\">\n",
    "        Your browser does not support the video tag.\n",
    "    </video>\n",
    "</div>\n",
    "<div class=\"video-container\">\n",
    "    <video controls>\n",
    "        <source src=\"videos/v20.mp4\" type=\"video/mp4\">\n",
    "        Your browser does not support the video tag.\n",
    "    </video>\n",
    "</div>\n",
    "\"\"\"\n",
    "\n",
    "# Display the HTML content\n",
    "display(HTML(html_code))"
   ]
  },
  {
   "cell_type": "markdown",
   "id": "25958b77-f3b9-42b4-9dfa-b66d9e492bae",
   "metadata": {},
   "source": [
    "As you can see, what RunwayML did with these illustrations is amazing. To put everything together and have the final video that showcases all the scenes as a whole journey, I will again use \"RunwayML\". After inserting all the previously generated videos with the help of its AI Magic Tools, Runway automatically edits all the scenes and creates a video.\n",
    "\n",
    "You can see the final edit here:"
   ]
  },
  {
   "cell_type": "code",
   "execution_count": 10,
   "id": "3e8fe69f-d4a7-4d36-a3ee-fcb6d2ae4dee",
   "metadata": {},
   "outputs": [
    {
     "data": {
      "text/html": [
       "\n",
       "<style>\n",
       ".video-container {\n",
       "    position: relative;\n",
       "    width: 100%;\n",
       "    max-width: 640px; \n",
       "    border-radius: 15px; /* Rounded corners */\n",
       "    overflow: hidden; /* Ensures the corners stay rounded */\n",
       "}\n",
       "\n",
       ".video-container video {\n",
       "    width: 100%;\n",
       "    height: auto;\n",
       "}\n",
       "</style>\n",
       "<h3>Final Video</h3>\n",
       "<div class=\"video-container\">\n",
       "    <video controls>\n",
       "        <source src=\"videos/final-video.MOV\" type=\"video/mp4\">\n",
       "        Your browser does not support the video tag.\n",
       "    </video>\n",
       "    <p>The audio is created/provided under the licensing agreement of “RunwayML”.</p>\n",
       "</div>\n"
      ],
      "text/plain": [
       "<IPython.core.display.HTML object>"
      ]
     },
     "metadata": {},
     "output_type": "display_data"
    }
   ],
   "source": [
    "html_code = \"\"\"\n",
    "<style>\n",
    ".video-container {\n",
    "    position: relative;\n",
    "    width: 100%;\n",
    "    max-width: 640px; \n",
    "    border-radius: 15px; /* Rounded corners */\n",
    "    overflow: hidden; /* Ensures the corners stay rounded */\n",
    "}\n",
    "\n",
    ".video-container video {\n",
    "    width: 100%;\n",
    "    height: auto;\n",
    "}\n",
    "</style>\n",
    "<h3>Final Video</h3>\n",
    "<div class=\"video-container\">\n",
    "    <video controls>\n",
    "        <source src=\"videos/final-video.MOV\" type=\"video/mp4\">\n",
    "        Your browser does not support the video tag.\n",
    "    </video>\n",
    "    <p>The audio is created/provided under the licensing agreement of “RunwayML”.</p>\n",
    "</div>\n",
    "\"\"\"\n",
    "\n",
    "# Display the HTML content\n",
    "display(HTML(html_code))"
   ]
  },
  {
   "cell_type": "markdown",
   "id": "0a103709-f88f-4e23-a931-80a455373d2d",
   "metadata": {},
   "source": [
    "### Publishing the Reel/TikTok\n",
    "\n",
    "With that done, I think we are ready to structure our posts for TikTok and Instagram. As planned, the video content will be complemented by summarised stories. Once the attention of the viewer is caught by the AI-edited video, we'll pique their interest with the story of the journey in the description. An additional thing that can be done to further engage the user is adding a link to a web page featuring a digitised version of the journal, allowing users to flip through pages and click on handwritten letters to view transcripts. However, this might be a project for the future.\n",
    "\n",
    "Here are the previews of the TikTok and the Instagram Reel ready to be published:\n"
   ]
  },
  {
   "cell_type": "markdown",
   "id": "f392f963-4f65-4944-b3ec-10828a6ee504",
   "metadata": {},
   "source": [
    "<table>\n",
    "<tr>\n",
    "    <td><img src='images/tiktok.png' style='width: 100%; border-radius: 10px; box-shadow: 0px 4px 8px rgba(0, 0, 0, 0.2);'></td>\n",
    "    <td><img src='images/instagram.png' style='width: 100%; border-radius: 10px; box-shadow: 0px 4px 8px rgba(0, 0, 0, 0.2);'></td>\n",
    "</tr>\n",
    "</table>"
   ]
  },
  {
   "cell_type": "markdown",
   "id": "769205ae-c6f9-4e6c-8622-67f13cb7135c",
   "metadata": {},
   "source": [
    "### Conclusion\n",
    "\n",
    "Overall, the project perfectly achieves its aim: to allow new generations to explore the past by offering them a dynamic and immersive exploration of the journal’s journey in a new format closer to what they are accustomed to."
   ]
  }
 ],
 "metadata": {
  "kernelspec": {
   "display_name": "Python 3 (ipykernel)",
   "language": "python",
   "name": "python3"
  },
  "language_info": {
   "codemirror_mode": {
    "name": "ipython",
    "version": 3
   },
   "file_extension": ".py",
   "mimetype": "text/x-python",
   "name": "python",
   "nbconvert_exporter": "python",
   "pygments_lexer": "ipython3",
   "version": "3.9.18"
  }
 },
 "nbformat": 4,
 "nbformat_minor": 5
}
