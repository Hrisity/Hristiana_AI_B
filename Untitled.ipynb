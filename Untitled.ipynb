{
 "cells": [
  {
   "cell_type": "markdown",
   "id": "9e434f27-870c-4286-b398-439d7ea97b71",
   "metadata": {},
   "source": [
    "**GUID**: 2653889r\n",
    "**GitHub URL**: "
   ]
  },
  {
   "cell_type": "markdown",
   "id": "13bf7ce9-1188-46e4-bee0-c373310ea7d2",
   "metadata": {},
   "source": [
    "# Journal of a Continental Tour\n",
    "\n",
    "*Modernising and bringing to life an old journal through a contemporary interpretation*\n"
   ]
  },
  {
   "cell_type": "markdown",
   "id": "3733760c-408c-48b2-a839-48c198f205e3",
   "metadata": {},
   "source": [
    "<img src=\"images/coverimage.jpeg\" width=\"35%\" height=\"35%\">\n"
   ]
  },
  {
   "cell_type": "markdown",
   "id": "0d5d755b-1024-4c77-a8cd-7d1216ef4637",
   "metadata": {},
   "source": [
    "## Chapter 1: Unveiling the Journey - A Digital Odyssey"
   ]
  },
  {
   "cell_type": "markdown",
   "id": "5ca24816-f6bf-4c75-ac2b-3a4888e19e28",
   "metadata": {},
   "source": [
    "### Introduction to the Collection\n",
    "\n",
    "The object I have chosen is GB 247 MS Gen 1, the Journal of a Continental Tour. It is a remarkable piece of history that lies in the heart of the Archives and Special Collections. This journal documents a continental tour from 1867 to 1868, as it offers a unique glimpse into the experiences, observations, and visual expressions of its author during a period of considerable social and cultural change.\n",
    "\n",
    "On the 18th of November, 1953, it was brought to the collection by John Smith. Comprising pen and ink drawings alongside photographs, this manuscript not only narrates a journey across continents but also encapsulates a moment in time where the confluence of art, travel, and observation painted a vivid picture of the world as seen through the eyes of its author.\n"
   ]
  },
  {
   "cell_type": "markdown",
   "id": "f1333c21-5338-49b8-9022-012246786dce",
   "metadata": {},
   "source": [
    "### Storing and Accessing the Journal\n",
    "The journal is located in the Manuscripts Collection of the University of Glasgow with the reference code GB 247 MS Gen 13. Although it is written in English, the journal also has a script that researchers and enthusiasts alike can use to track the journey back in time.\n",
    "\n",
    "The access is open, however, potential viewers have to contact the library's Archives and Special Collections at library-asc@glasgow.ac.uk for appointments or advice, ensuring the preservation and respect for the material's integrity and significance.\n",
    "\n"
   ]
  },
  {
   "cell_type": "markdown",
   "id": "1043010e-a5c7-4517-baf3-5eefe4ed6bd6",
   "metadata": {},
   "source": [
    "### Objectives of Our Digital Odyssey\n",
    "My project sets out to breathe new life into this historic journal. I will use it as a springboard to explore and question existing technical, social, and cultural topics relevant to the time of its creation and our current era.\n",
    "\n",
    "Following the processes of summarisation and digital enhancement, I will engage the audience with the journal's contents by inviting them to explore the past while reflecting on its implications in the present day.\n"
   ]
  },
  {
   "cell_type": "markdown",
   "id": "89e44c6b-1086-47f5-ba6a-ab475c4ee8a8",
   "metadata": {},
   "source": [
    "### Engaging With the Journal: A New Perspective\n",
    "Firstly, I will use the power of AI, particularly the capabilities of ChatGPT, to analyse and summarise the journal. In this way, the essence of Robert McLean's narrative will be distilled. Hence, the results should be a modern interpretation that makes the journal's content more accessible and provides a fresh lens through which to view historical accounts.\n",
    "\n",
    "As mentioned earlier, the hand-written text in the journal is accompanied by black-and-white hand-drawn illustrations and photographs. I am going to use these and the summarised text of the transcript as a basis for generating vibrant, digital illustrations. With Midjourney and some code generations, I will transform these historical visual elements into colourful digital artworks. Lastly, based on the newly generated images and the summarised text, new prompts will be designed that bring these images to life - animating them and turning them into ai-generated videos. This is how the past can be reimagined with the vibrancy and dynamism of the present.\n",
    "\n",
    "What is more, Python code from open-source packages will play a crucial role in this transformation, facilitating the creation of these digital illustrations and enabling the integration of these visuals with AI-generated content. This technical synergy will help me to produce rich, engaging content, offering viewers a dynamic and immersive exploration of the journal's journey.\n",
    "\n"
   ]
  },
  {
   "cell_type": "markdown",
   "id": "d044b651-1876-4f0a-91e1-e92875b166db",
   "metadata": {},
   "source": [
    "### Inviting Engagement and Reflection\n",
    "My main goal in the AI journey is not only to preserve and honour the essence of the original journal but also to challenge and expand my audience’s understanding of the past. I invite you - the viewers, to question and reflect on the technical, social, and cultural contexts of the past and their relevance to contemporary issues. \n",
    "\n",
    "With this project, the journal of a continental tour will serve as a portal to the past. As it offers insights and inspirations that resonate with the challenges and opportunities of today, presented in a way that corresponds with what people nowadays are accustomed to.\n"
   ]
  },
  {
   "cell_type": "markdown",
   "id": "44651fd0-8b06-42b6-91cc-c1529ba2ece7",
   "metadata": {},
   "source": [
    "## Chapter 2: Through the Lens of Modernity"
   ]
  },
  {
   "cell_type": "markdown",
   "id": "d4c924f9-a319-4e0c-a5fb-ffdec20f2fad",
   "metadata": {},
   "source": [
    "### Transforming Historical Text into Visual Narratives\n",
    "In this chapter, I invite you on a journey of transformation, utilising the prowess of AI, including ChatGPT. I will use it to distil and summarise the essence of a continental tour documented in 1867-1868. The generated summary will be divided into sections. Each section of the summarised journal plays the role of a foundation upon which a series of vivid, engaging prompts will be constructed. This will guide the creation of digital art in the next chapter. This is how I will bring historical narratives to life through a contemporary lens."
   ]
  },
  {
   "cell_type": "markdown",
   "id": "7cdb04e4-b75d-4eee-879a-879ac0f63a51",
   "metadata": {},
   "source": [
    "### Leveraging AI for Historical Insight\n",
    "\n",
    "Before starting, it's crucial to outline the initial step that set the foundation for this chapter: the summarization of the journal's transcript through interaction with ChatGPT. This process is essential in distilling the essence of travels into coherent, manageable sections that serve as the backbone for our subsequent creative exploration.\n"
   ]
  },
  {
   "cell_type": "markdown",
   "id": "5a858f68-9972-434a-b6ae-4739725fb6b7",
   "metadata": {},
   "source": [
    "### First Phase - The Summarisation \n",
    "*Interactions with AI*: This journey begins with the raw, handwritten text turned into a transcript by McLean. This comprehensive account is filled with detailed observations, personal reflections, and vivid descriptions of the places and people from the journal. Because of the great potential of AI to tell the narrative that is hidden within these pages in a more systematised way, I turned to ChatGPT. I will, first, upload the transcript to the AI tool, to distil the essence that retains the narrative's soul while making it accessible for a modern audience that is used to find information in shorter passages of text.\n",
    "\n",
    "*Achieving Clarity and Focus*: My goal was clear from the very beginning — to transform the sprawling narrative into a structured format that highlights key events, cultural observations, and the traveller's experiences. Of course, I was trying to prevent the loss of depth and richness of the original text. ChatGPT's response will be a set of summarised sections. Each will be focusing on a distinct phase of this journey. This breakdown will clarify the thematic threads that run through the journal.\n",
    "\n",
    "*From Text to Themes*: The summaries offered by ChatGPT will serve as thematic signposts, guiding our project's next phase. Each summary became a springboard for deeper engagement, allowing us to conceive prompts for Midjourney that would later be transformed into digital illustrations, bridging the gap between 19th-century travel and 21st-century storytelling techniques.\n"
   ]
  },
  {
   "cell_type": "markdown",
   "id": "a0797ddc-a9d0-4699-87eb-dc1929040130",
   "metadata": {},
   "source": [
    "### Transforming Historical Text into Visual Narratives\n",
    "\n",
    "The first step is to transform the journal transcript into a structured format that highlights key events, cultural observations, and the traveller's experiences. The way I approached this step involved structuring a prompt that successfully communicates to the AI tool what I am trying to get as a result. After a series of tries, I built such a prompt and sent it to the ChatGPT 4.0 chatbot.\n",
    "\n",
    "Prompt: *I am a student working on an AI project that involves summarizing a transcript of a handwritten journal. From this summary, I will create prompts, and by combining them with hand-drawn illustrations, I will generate digital coloured illustrations. Finally, I will use all that to create a video that tells the story of the journal. Now, analyze the document I provided - the transcript of the journal and generate a summary of it, separate it into sections, each should briefly describe what happened during each visit. [uploaded document MSGen13-2.docx]*\n"
   ]
  },
  {
   "cell_type": "markdown",
   "id": "9d17490c-ec36-499d-adb7-7f24b9545443",
   "metadata": {},
   "source": [
    "**ChatGPT:** Based on the detailed transcript provided, here is a summarized breakdown of the journal, divided into sections according to the main events or visits described:\n",
    "\n",
    "**Departure and Journey to France**\n",
    "Summary: The journey begins with preparations and departure from Glasgow to Nice, with a mention of the hassles of traveling, including packing and managing luggage. The narrative includes a vivid description of the travel experience via the Caledonian Railway, Charing Cross, and the journey through Paris, highlighting encounters with fellow travelers and the difficulties of managing belongings and dealing with customs.\n",
    "\n",
    "**Paris Stay and Exhibition Visit**\n",
    "Summary: The stay in Paris is marked by adjusting to the local accommodations and participating in the daily routines of the Pension where they stayed. The visit to the Exhibition (Expo) includes a detailed account of their exploration of the various courts and a notable focus on the Bible stand and the Salle Evangilique. The narrative captures their dining experiences, observations of Parisian life, and interactions with art and culture.\n",
    "\n",
    "**Journey to the South of France**\n",
    "Summary: Describes the continuation of their journey south, stopping at various locations such as Lyons, and their eventual arrival in Nice. The account includes details of the travel experience, including meals, encounters with other travelers, and the landscape's beauty. There's a focus on the misadventures and challenges faced, including issues with accommodations and the diverse conditions encountered in different towns.\n",
    "\n",
    "**Exploration of Nice and Surroundings**\n",
    "Summary: Chronicles the experiences and daily life in Nice, including interactions with local residents, exploration of the city's attractions, and the climate's impact on their activities. Describes visits to notable locations, such as Monaco, Mentone, and the Villa Garlands, including observations of local customs, climate, and scenery. There's a focus on social activities, health, and the personal impact of the journey.\n",
    "\n",
    "**Return to Nice and Concluding Adventures**\n",
    "Summary: Concludes with their return to Nice and further explorations, including visits to historical sites, participation in local events, and social interactions with both locals and other travelers. The narrative captures the continuing challenges of travel, including health issues and the weather's unpredictability. The journal ends with reflections on the experiences gained and the interactions with the diverse characters met along the way.\n",
    "\n",
    "*This summary divides the journal into major sections based on the geographical progression of the journey and the significant experiences and challenges encountered. Each section highlights key aspects of the travel experience, from the logistics of travel and accommodations to cultural explorations and personal reflections on the journey's impact.*"
   ]
  },
  {
   "cell_type": "markdown",
   "id": "3d6fe106-b28f-4935-a7af-efa1f4c32762",
   "metadata": {},
   "source": [
    "### Second Phase - Modifying the Story \n",
    "\n",
    "Now it is time to turn the summary of each travel memory into a short story as told by a person. These will be needed after the video generation (last chapter). \n",
    "\n",
    "For the generation of the short travel stories, I will turn to ChatGPT. It took me a while to come up with a prompt that works but after a couple of tries, here is the result:"
   ]
  },
  {
   "cell_type": "markdown",
   "id": "674a79e7-e73a-4a66-823c-d09d5319c97a",
   "metadata": {},
   "source": [
    "The generalised version of the prompt: *Here is a summary of a travel story. Rewrite it in a way that sounds written by a person who shares his experience: \"[Section from the ai-generated summary]\"*\n",
    "\n",
    "Example prompt with filled variables: *Here is a summary of a travel story. Rewrite it in a way that sounds written by a person who shares his experience: \"Departure and Journey to France Summary: The journey begins with preparations and departure from Glasgow to Nice, with a mention of the hassles of traveling, including packing and managing luggage. The narrative includes a vivid description of the travel experience via the Caledonian Railway, Charing Cross, and the journey through Paris, highlighting encounters with fellow travelers and the difficulties of managing belongings and dealing with customs.\"* "
   ]
  },
  {
   "cell_type": "markdown",
   "id": "45eeab93-309d-4ee5-b6b7-a60912df5926",
   "metadata": {},
   "source": [
    "ChatGPT Responses:"
   ]
  },
  {
   "cell_type": "markdown",
   "id": "a720a0b6-d696-4137-af71-ca8455a7ed11",
   "metadata": {},
   "source": [
    "\n",
    "<div style='display: flex; flex-wrap: wrap; justify-content: space-around;'>\n",
    "    <img src='images/1.jpeg' style='max-width: 28%;'>\n",
    "    <img src='images/2.jpeg' style='max-width: 28%;'>\n",
    "    <img src='images/3.jpeg' style='max-width: 28%;'>\n",
    "</div>\n",
    "<div style='display: flex; flex-wrap: wrap; justify-content: space-around;'>\n",
    "    <img src='images/4.jpeg' style='max-width: 42%;'>\n",
    "    <img src='images/5.jpeg' style='max-width: 42%;'>\n",
    "</div>\n",
    "\n"
   ]
  },
  {
   "cell_type": "markdown",
   "id": "79e6607b-cd14-4b87-a35f-ed7de47afb1a",
   "metadata": {},
   "source": [
    "We generated whole store in just 5 pages! It follows to turn these into prompts for illustration generation!"
   ]
  },
  {
   "cell_type": "markdown",
   "id": "d1337251-5f9e-462c-b5f1-13e4d9e472c5",
   "metadata": {},
   "source": [
    "### Second Phase - Engineering the prompts \n"
   ]
  },
  {
   "cell_type": "markdown",
   "id": "c8e4368e-bb29-4713-8740-66d598c75664",
   "metadata": {},
   "source": [
    "First, we need a prompt that will helps us turn each of the short stories into a prompt that can be used in midjourney for illustation generation. "
   ]
  },
  {
   "cell_type": "code",
   "execution_count": null,
   "id": "a0565e7b-b3d6-44b8-8a29-f1f1547986c5",
   "metadata": {},
   "outputs": [],
   "source": []
  }
 ],
 "metadata": {
  "kernelspec": {
   "display_name": "Python 3 (ipykernel)",
   "language": "python",
   "name": "python3"
  },
  "language_info": {
   "codemirror_mode": {
    "name": "ipython",
    "version": 3
   },
   "file_extension": ".py",
   "mimetype": "text/x-python",
   "name": "python",
   "nbconvert_exporter": "python",
   "pygments_lexer": "ipython3",
   "version": "3.9.18"
  }
 },
 "nbformat": 4,
 "nbformat_minor": 5
}
